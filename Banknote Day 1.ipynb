{
 "cells": [
  {
   "cell_type": "code",
   "execution_count": 80,
   "id": "19455d15",
   "metadata": {},
   "outputs": [
    {
     "data": {
      "text/plain": [
       "'/Users/daniellejenkins17/Documents/GitHub/Banknote-Classification-Project'"
      ]
     },
     "execution_count": 80,
     "metadata": {},
     "output_type": "execute_result"
    }
   ],
   "source": [
    "pwd"
   ]
  },
  {
   "cell_type": "code",
   "execution_count": 177,
   "id": "3b86e786",
   "metadata": {},
   "outputs": [],
   "source": [
    "#UCI banknote authentication Data Set\n",
    "\n",
    "import pandas as pd \n",
    "import numpy as np\n",
    "import matplotlib as plt \n",
    "import matplotlib.pyplot as plt\n",
    "import seaborn as sns\n",
    "import sklearn\n",
    "from sklearn.model_selection import train_test_split\n",
    "from sklearn import decomposition, datasets\n",
    "from sklearn import tree\n",
    "from sklearn.pipeline import Pipeline\n",
    "from sklearn.model_selection import GridSearchCV, cross_val_score\n",
    "from sklearn.preprocessing import StandardScaler\n",
    "import os\n",
    "from sklearn.metrics import confusion_matrix\n",
    "from sklearn.metrics import plot_confusion_matrix \n",
    "from sklearn.metrics import precision_score\n",
    "from sklearn.metrics import recall_score\n",
    "from sklearn.metrics import f1_score\n",
    "\n",
    "df = pd.read_csv('/Users/daniellejenkins17/Downloads/data_banknote_authentication.txt', delimiter =',')"
   ]
  },
  {
   "cell_type": "code",
   "execution_count": 152,
   "id": "4118f598",
   "metadata": {},
   "outputs": [],
   "source": [
    "#Variance is the changes in the model when using different portions of the training data set\n",
    "#Assess model variance with cross validation\n",
    "#Variance comes from highly complex models with a large number of features\n",
    "\n",
    "#Entropy: a measure of heterogeneity\n",
    "    \n",
    "#Skewness and Kurtosis: \n",
    "#Skewness is the degree of distortion or deviation from the symmetrical normal distribution. \n",
    "#Skewness can calculate the lack of symmetry in the data. \n",
    "\n",
    "#- A skewness between -0.5 and 0.5 means that the data are pretty symmetrical\n",
    "#- A skewness between -1 and -0.5 (negatively skewed) or between 0.5 and 1 (positively skewed) means that \n",
    "#  the data are moderately skewed.\n",
    "#- A skewness smaller than -1 (negatively skewed) or bigger than 1 (positively skewed) means that the data \n",
    "#  are highly skewed.\n",
    "\n",
    "#Kurtosis deals with the lengths of tails in the distribution...it's a measure of outliers...high kurtosis \n",
    "#means a lot of outliers...investigate why"
   ]
  },
  {
   "cell_type": "code",
   "execution_count": 119,
   "id": "1754d9a0",
   "metadata": {},
   "outputs": [
    {
     "data": {
      "text/html": [
       "<div>\n",
       "<style scoped>\n",
       "    .dataframe tbody tr th:only-of-type {\n",
       "        vertical-align: middle;\n",
       "    }\n",
       "\n",
       "    .dataframe tbody tr th {\n",
       "        vertical-align: top;\n",
       "    }\n",
       "\n",
       "    .dataframe thead th {\n",
       "        text-align: right;\n",
       "    }\n",
       "</style>\n",
       "<table border=\"1\" class=\"dataframe\">\n",
       "  <thead>\n",
       "    <tr style=\"text-align: right;\">\n",
       "      <th></th>\n",
       "      <th>3.6216</th>\n",
       "      <th>8.6661</th>\n",
       "      <th>-2.8073</th>\n",
       "      <th>-0.44699</th>\n",
       "      <th>0</th>\n",
       "    </tr>\n",
       "  </thead>\n",
       "  <tbody>\n",
       "    <tr>\n",
       "      <th>0</th>\n",
       "      <td>4.54590</td>\n",
       "      <td>8.16740</td>\n",
       "      <td>-2.4586</td>\n",
       "      <td>-1.46210</td>\n",
       "      <td>0</td>\n",
       "    </tr>\n",
       "    <tr>\n",
       "      <th>1</th>\n",
       "      <td>3.86600</td>\n",
       "      <td>-2.63830</td>\n",
       "      <td>1.9242</td>\n",
       "      <td>0.10645</td>\n",
       "      <td>0</td>\n",
       "    </tr>\n",
       "    <tr>\n",
       "      <th>2</th>\n",
       "      <td>3.45660</td>\n",
       "      <td>9.52280</td>\n",
       "      <td>-4.0112</td>\n",
       "      <td>-3.59440</td>\n",
       "      <td>0</td>\n",
       "    </tr>\n",
       "    <tr>\n",
       "      <th>3</th>\n",
       "      <td>0.32924</td>\n",
       "      <td>-4.45520</td>\n",
       "      <td>4.5718</td>\n",
       "      <td>-0.98880</td>\n",
       "      <td>0</td>\n",
       "    </tr>\n",
       "    <tr>\n",
       "      <th>4</th>\n",
       "      <td>4.36840</td>\n",
       "      <td>9.67180</td>\n",
       "      <td>-3.9606</td>\n",
       "      <td>-3.16250</td>\n",
       "      <td>0</td>\n",
       "    </tr>\n",
       "    <tr>\n",
       "      <th>...</th>\n",
       "      <td>...</td>\n",
       "      <td>...</td>\n",
       "      <td>...</td>\n",
       "      <td>...</td>\n",
       "      <td>...</td>\n",
       "    </tr>\n",
       "    <tr>\n",
       "      <th>1366</th>\n",
       "      <td>0.40614</td>\n",
       "      <td>1.34920</td>\n",
       "      <td>-1.4501</td>\n",
       "      <td>-0.55949</td>\n",
       "      <td>1</td>\n",
       "    </tr>\n",
       "    <tr>\n",
       "      <th>1367</th>\n",
       "      <td>-1.38870</td>\n",
       "      <td>-4.87730</td>\n",
       "      <td>6.4774</td>\n",
       "      <td>0.34179</td>\n",
       "      <td>1</td>\n",
       "    </tr>\n",
       "    <tr>\n",
       "      <th>1368</th>\n",
       "      <td>-3.75030</td>\n",
       "      <td>-13.45860</td>\n",
       "      <td>17.5932</td>\n",
       "      <td>-2.77710</td>\n",
       "      <td>1</td>\n",
       "    </tr>\n",
       "    <tr>\n",
       "      <th>1369</th>\n",
       "      <td>-3.56370</td>\n",
       "      <td>-8.38270</td>\n",
       "      <td>12.3930</td>\n",
       "      <td>-1.28230</td>\n",
       "      <td>1</td>\n",
       "    </tr>\n",
       "    <tr>\n",
       "      <th>1370</th>\n",
       "      <td>-2.54190</td>\n",
       "      <td>-0.65804</td>\n",
       "      <td>2.6842</td>\n",
       "      <td>1.19520</td>\n",
       "      <td>1</td>\n",
       "    </tr>\n",
       "  </tbody>\n",
       "</table>\n",
       "<p>1371 rows × 5 columns</p>\n",
       "</div>"
      ],
      "text/plain": [
       "       3.6216    8.6661  -2.8073  -0.44699  0\n",
       "0     4.54590   8.16740  -2.4586  -1.46210  0\n",
       "1     3.86600  -2.63830   1.9242   0.10645  0\n",
       "2     3.45660   9.52280  -4.0112  -3.59440  0\n",
       "3     0.32924  -4.45520   4.5718  -0.98880  0\n",
       "4     4.36840   9.67180  -3.9606  -3.16250  0\n",
       "...       ...       ...      ...       ... ..\n",
       "1366  0.40614   1.34920  -1.4501  -0.55949  1\n",
       "1367 -1.38870  -4.87730   6.4774   0.34179  1\n",
       "1368 -3.75030 -13.45860  17.5932  -2.77710  1\n",
       "1369 -3.56370  -8.38270  12.3930  -1.28230  1\n",
       "1370 -2.54190  -0.65804   2.6842   1.19520  1\n",
       "\n",
       "[1371 rows x 5 columns]"
      ]
     },
     "execution_count": 119,
     "metadata": {},
     "output_type": "execute_result"
    }
   ],
   "source": [
    "df\n",
    "\n",
    "#1. variance of Wavelet Transformed image (continuous) \n",
    "#2. skewness of Wavelet Transformed image (continuous) \n",
    "#3. curtosis of Wavelet Transformed image (continuous) \n",
    "#4. entropy of image (continuous) \n",
    "#5. class (integer) \n",
    "\n",
    "#In the Banknote Authentication dataset, class 0 is “genuine/authentic” and class 1 is “forgery/fake”"
   ]
  },
  {
   "cell_type": "code",
   "execution_count": 120,
   "id": "5984e3e1",
   "metadata": {},
   "outputs": [
    {
     "data": {
      "text/plain": [
       "<bound method DataFrame.info of        3.6216    8.6661  -2.8073  -0.44699  0\n",
       "0     4.54590   8.16740  -2.4586  -1.46210  0\n",
       "1     3.86600  -2.63830   1.9242   0.10645  0\n",
       "2     3.45660   9.52280  -4.0112  -3.59440  0\n",
       "3     0.32924  -4.45520   4.5718  -0.98880  0\n",
       "4     4.36840   9.67180  -3.9606  -3.16250  0\n",
       "...       ...       ...      ...       ... ..\n",
       "1366  0.40614   1.34920  -1.4501  -0.55949  1\n",
       "1367 -1.38870  -4.87730   6.4774   0.34179  1\n",
       "1368 -3.75030 -13.45860  17.5932  -2.77710  1\n",
       "1369 -3.56370  -8.38270  12.3930  -1.28230  1\n",
       "1370 -2.54190  -0.65804   2.6842   1.19520  1\n",
       "\n",
       "[1371 rows x 5 columns]>"
      ]
     },
     "execution_count": 120,
     "metadata": {},
     "output_type": "execute_result"
    }
   ],
   "source": [
    "df.info"
   ]
  },
  {
   "cell_type": "code",
   "execution_count": 121,
   "id": "10a5140d",
   "metadata": {},
   "outputs": [
    {
     "data": {
      "text/html": [
       "<div>\n",
       "<style scoped>\n",
       "    .dataframe tbody tr th:only-of-type {\n",
       "        vertical-align: middle;\n",
       "    }\n",
       "\n",
       "    .dataframe tbody tr th {\n",
       "        vertical-align: top;\n",
       "    }\n",
       "\n",
       "    .dataframe thead th {\n",
       "        text-align: right;\n",
       "    }\n",
       "</style>\n",
       "<table border=\"1\" class=\"dataframe\">\n",
       "  <thead>\n",
       "    <tr style=\"text-align: right;\">\n",
       "      <th></th>\n",
       "      <th>3.6216</th>\n",
       "      <th>8.6661</th>\n",
       "      <th>-2.8073</th>\n",
       "      <th>-0.44699</th>\n",
       "      <th>0</th>\n",
       "    </tr>\n",
       "  </thead>\n",
       "  <tbody>\n",
       "    <tr>\n",
       "      <th>0</th>\n",
       "      <td>4.54590</td>\n",
       "      <td>8.1674</td>\n",
       "      <td>-2.4586</td>\n",
       "      <td>-1.46210</td>\n",
       "      <td>0</td>\n",
       "    </tr>\n",
       "    <tr>\n",
       "      <th>1</th>\n",
       "      <td>3.86600</td>\n",
       "      <td>-2.6383</td>\n",
       "      <td>1.9242</td>\n",
       "      <td>0.10645</td>\n",
       "      <td>0</td>\n",
       "    </tr>\n",
       "    <tr>\n",
       "      <th>2</th>\n",
       "      <td>3.45660</td>\n",
       "      <td>9.5228</td>\n",
       "      <td>-4.0112</td>\n",
       "      <td>-3.59440</td>\n",
       "      <td>0</td>\n",
       "    </tr>\n",
       "    <tr>\n",
       "      <th>3</th>\n",
       "      <td>0.32924</td>\n",
       "      <td>-4.4552</td>\n",
       "      <td>4.5718</td>\n",
       "      <td>-0.98880</td>\n",
       "      <td>0</td>\n",
       "    </tr>\n",
       "    <tr>\n",
       "      <th>4</th>\n",
       "      <td>4.36840</td>\n",
       "      <td>9.6718</td>\n",
       "      <td>-3.9606</td>\n",
       "      <td>-3.16250</td>\n",
       "      <td>0</td>\n",
       "    </tr>\n",
       "  </tbody>\n",
       "</table>\n",
       "</div>"
      ],
      "text/plain": [
       "    3.6216  8.6661  -2.8073  -0.44699  0\n",
       "0  4.54590  8.1674  -2.4586  -1.46210  0\n",
       "1  3.86600 -2.6383   1.9242   0.10645  0\n",
       "2  3.45660  9.5228  -4.0112  -3.59440  0\n",
       "3  0.32924 -4.4552   4.5718  -0.98880  0\n",
       "4  4.36840  9.6718  -3.9606  -3.16250  0"
      ]
     },
     "execution_count": 121,
     "metadata": {},
     "output_type": "execute_result"
    }
   ],
   "source": [
    "df.head()"
   ]
  },
  {
   "cell_type": "code",
   "execution_count": 122,
   "id": "c919fd18",
   "metadata": {},
   "outputs": [
    {
     "data": {
      "text/plain": [
       "3.6216      0.431410\n",
       "8.6661      1.917434\n",
       "-2.8073     1.400694\n",
       "-0.44699   -1.192200\n",
       "0           0.444931\n",
       "dtype: float64"
      ]
     },
     "execution_count": 122,
     "metadata": {},
     "output_type": "execute_result"
    }
   ],
   "source": [
    "df.mean()"
   ]
  },
  {
   "cell_type": "code",
   "execution_count": 123,
   "id": "c5bcc7f6",
   "metadata": {},
   "outputs": [
    {
     "data": {
      "text/plain": [
       "3.6216      0.49571\n",
       "8.6661      2.31340\n",
       "-2.8073     0.61663\n",
       "-0.44699   -0.58665\n",
       "0           0.00000\n",
       "dtype: float64"
      ]
     },
     "execution_count": 123,
     "metadata": {},
     "output_type": "execute_result"
    }
   ],
   "source": [
    "df.median()"
   ]
  },
  {
   "cell_type": "code",
   "execution_count": 124,
   "id": "09d3b01f",
   "metadata": {},
   "outputs": [
    {
     "data": {
      "text/html": [
       "<div>\n",
       "<style scoped>\n",
       "    .dataframe tbody tr th:only-of-type {\n",
       "        vertical-align: middle;\n",
       "    }\n",
       "\n",
       "    .dataframe tbody tr th {\n",
       "        vertical-align: top;\n",
       "    }\n",
       "\n",
       "    .dataframe thead th {\n",
       "        text-align: right;\n",
       "    }\n",
       "</style>\n",
       "<table border=\"1\" class=\"dataframe\">\n",
       "  <thead>\n",
       "    <tr style=\"text-align: right;\">\n",
       "      <th></th>\n",
       "      <th>Variance</th>\n",
       "      <th>Skewness</th>\n",
       "      <th>Kurtosis</th>\n",
       "      <th>Entropy</th>\n",
       "      <th>Authentic_Fake</th>\n",
       "    </tr>\n",
       "  </thead>\n",
       "  <tbody>\n",
       "    <tr>\n",
       "      <th>0</th>\n",
       "      <td>4.54590</td>\n",
       "      <td>8.16740</td>\n",
       "      <td>-2.4586</td>\n",
       "      <td>-1.46210</td>\n",
       "      <td>0</td>\n",
       "    </tr>\n",
       "    <tr>\n",
       "      <th>1</th>\n",
       "      <td>3.86600</td>\n",
       "      <td>-2.63830</td>\n",
       "      <td>1.9242</td>\n",
       "      <td>0.10645</td>\n",
       "      <td>0</td>\n",
       "    </tr>\n",
       "    <tr>\n",
       "      <th>2</th>\n",
       "      <td>3.45660</td>\n",
       "      <td>9.52280</td>\n",
       "      <td>-4.0112</td>\n",
       "      <td>-3.59440</td>\n",
       "      <td>0</td>\n",
       "    </tr>\n",
       "    <tr>\n",
       "      <th>3</th>\n",
       "      <td>0.32924</td>\n",
       "      <td>-4.45520</td>\n",
       "      <td>4.5718</td>\n",
       "      <td>-0.98880</td>\n",
       "      <td>0</td>\n",
       "    </tr>\n",
       "    <tr>\n",
       "      <th>4</th>\n",
       "      <td>4.36840</td>\n",
       "      <td>9.67180</td>\n",
       "      <td>-3.9606</td>\n",
       "      <td>-3.16250</td>\n",
       "      <td>0</td>\n",
       "    </tr>\n",
       "    <tr>\n",
       "      <th>...</th>\n",
       "      <td>...</td>\n",
       "      <td>...</td>\n",
       "      <td>...</td>\n",
       "      <td>...</td>\n",
       "      <td>...</td>\n",
       "    </tr>\n",
       "    <tr>\n",
       "      <th>1366</th>\n",
       "      <td>0.40614</td>\n",
       "      <td>1.34920</td>\n",
       "      <td>-1.4501</td>\n",
       "      <td>-0.55949</td>\n",
       "      <td>1</td>\n",
       "    </tr>\n",
       "    <tr>\n",
       "      <th>1367</th>\n",
       "      <td>-1.38870</td>\n",
       "      <td>-4.87730</td>\n",
       "      <td>6.4774</td>\n",
       "      <td>0.34179</td>\n",
       "      <td>1</td>\n",
       "    </tr>\n",
       "    <tr>\n",
       "      <th>1368</th>\n",
       "      <td>-3.75030</td>\n",
       "      <td>-13.45860</td>\n",
       "      <td>17.5932</td>\n",
       "      <td>-2.77710</td>\n",
       "      <td>1</td>\n",
       "    </tr>\n",
       "    <tr>\n",
       "      <th>1369</th>\n",
       "      <td>-3.56370</td>\n",
       "      <td>-8.38270</td>\n",
       "      <td>12.3930</td>\n",
       "      <td>-1.28230</td>\n",
       "      <td>1</td>\n",
       "    </tr>\n",
       "    <tr>\n",
       "      <th>1370</th>\n",
       "      <td>-2.54190</td>\n",
       "      <td>-0.65804</td>\n",
       "      <td>2.6842</td>\n",
       "      <td>1.19520</td>\n",
       "      <td>1</td>\n",
       "    </tr>\n",
       "  </tbody>\n",
       "</table>\n",
       "<p>1371 rows × 5 columns</p>\n",
       "</div>"
      ],
      "text/plain": [
       "      Variance  Skewness  Kurtosis  Entropy  Authentic_Fake\n",
       "0      4.54590   8.16740   -2.4586 -1.46210               0\n",
       "1      3.86600  -2.63830    1.9242  0.10645               0\n",
       "2      3.45660   9.52280   -4.0112 -3.59440               0\n",
       "3      0.32924  -4.45520    4.5718 -0.98880               0\n",
       "4      4.36840   9.67180   -3.9606 -3.16250               0\n",
       "...        ...       ...       ...      ...             ...\n",
       "1366   0.40614   1.34920   -1.4501 -0.55949               1\n",
       "1367  -1.38870  -4.87730    6.4774  0.34179               1\n",
       "1368  -3.75030 -13.45860   17.5932 -2.77710               1\n",
       "1369  -3.56370  -8.38270   12.3930 -1.28230               1\n",
       "1370  -2.54190  -0.65804    2.6842  1.19520               1\n",
       "\n",
       "[1371 rows x 5 columns]"
      ]
     },
     "execution_count": 124,
     "metadata": {},
     "output_type": "execute_result"
    }
   ],
   "source": [
    "#renaming columns \n",
    "\n",
    "df.columns = ['Variance', 'Skewness', \"Kurtosis\", \"Entropy\", \"Authentic_Fake\"]\n",
    "df"
   ]
  },
  {
   "cell_type": "code",
   "execution_count": 125,
   "id": "7382782d",
   "metadata": {},
   "outputs": [],
   "source": [
    "#Tasks: \n",
    "\n",
    "#Train test split \n",
    "\n",
    "#make plots of visualizations: \n",
    "\n",
    "#Class vs Variance \n",
    "#Class vs Skewness \n",
    "#Class vs Kurtosis\n",
    "#Class vs Entropy \n",
    "\n",
    "#read the lab notes and take notes\n",
    "#make notes in EN from my black notebook from today "
   ]
  },
  {
   "cell_type": "code",
   "execution_count": 126,
   "id": "f96c6fc5",
   "metadata": {},
   "outputs": [
    {
     "data": {
      "text/plain": [
       "0    761\n",
       "1    610\n",
       "Name: Authentic_Fake, dtype: int64"
      ]
     },
     "execution_count": 126,
     "metadata": {},
     "output_type": "execute_result"
    }
   ],
   "source": [
    "df.Authentic_Fake.value_counts()"
   ]
  },
  {
   "cell_type": "code",
   "execution_count": 127,
   "id": "b17bf3fa",
   "metadata": {},
   "outputs": [
    {
     "data": {
      "text/plain": [
       "0    0.555069\n",
       "1    0.444931\n",
       "Name: Authentic_Fake, dtype: float64"
      ]
     },
     "execution_count": 127,
     "metadata": {},
     "output_type": "execute_result"
    }
   ],
   "source": [
    "df.Authentic_Fake.value_counts(normalize = True)"
   ]
  },
  {
   "cell_type": "code",
   "execution_count": 128,
   "id": "c008ca5d",
   "metadata": {},
   "outputs": [
    {
     "data": {
      "text/plain": [
       "<seaborn.axisgrid.FacetGrid at 0x7f9445d08fa0>"
      ]
     },
     "execution_count": 128,
     "metadata": {},
     "output_type": "execute_result"
    },
    {
     "data": {
      "image/png": "[encoded data removed]",
      "text/plain": [
       "<Figure size 360x360 with 1 Axes>"
      ]
     },
     "metadata": {
      "needs_background": "light"
     },
     "output_type": "display_data"
    }
   ],
   "source": [
    "sns.displot(df['Variance'])\n",
    "\n",
    "#all banknotes"
   ]
  },
  {
   "cell_type": "code",
   "execution_count": 129,
   "id": "61b9aa4a",
   "metadata": {},
   "outputs": [
    {
     "data": {
      "text/plain": [
       "<seaborn.axisgrid.FacetGrid at 0x7f94497d4910>"
      ]
     },
     "execution_count": 129,
     "metadata": {},
     "output_type": "execute_result"
    },
    {
     "data": {
      "image/png": "[encoded data removed]",
      "text/plain": [
       "<Figure size 360x360 with 1 Axes>"
      ]
     },
     "metadata": {
      "needs_background": "light"
     },
     "output_type": "display_data"
    }
   ],
   "source": [
    "sns.displot(df['Skewness'])\n",
    "\n",
    "#all banknotes"
   ]
  },
  {
   "cell_type": "code",
   "execution_count": 130,
   "id": "b0546553",
   "metadata": {},
   "outputs": [
    {
     "data": {
      "text/plain": [
       "<seaborn.axisgrid.FacetGrid at 0x7f9448bf6190>"
      ]
     },
     "execution_count": 130,
     "metadata": {},
     "output_type": "execute_result"
    },
    {
     "data": {
      "image/png": "[encoded data removed]",
      "text/plain": [
       "<Figure size 360x360 with 1 Axes>"
      ]
     },
     "metadata": {
      "needs_background": "light"
     },
     "output_type": "display_data"
    }
   ],
   "source": [
    "sns.displot(df['Kurtosis'])\n",
    "\n",
    "#all banknotes"
   ]
  },
  {
   "cell_type": "code",
   "execution_count": 131,
   "id": "364a3de4",
   "metadata": {},
   "outputs": [
    {
     "data": {
      "text/plain": [
       "<seaborn.axisgrid.FacetGrid at 0x7f9449b060a0>"
      ]
     },
     "execution_count": 131,
     "metadata": {},
     "output_type": "execute_result"
    },
    {
     "data": {
      "image/png": "[encoded data removed]",
      "text/plain": [
       "<Figure size 360x360 with 1 Axes>"
      ]
     },
     "metadata": {
      "needs_background": "light"
     },
     "output_type": "display_data"
    }
   ],
   "source": [
    "sns.displot(df[df['Authentic_Fake'] == 1]['Entropy'])\n",
    "\n",
    "#Fake checks "
   ]
  },
  {
   "cell_type": "code",
   "execution_count": 132,
   "id": "b38d17bf",
   "metadata": {},
   "outputs": [
    {
     "data": {
      "text/plain": [
       "<seaborn.axisgrid.FacetGrid at 0x7f9449bdd610>"
      ]
     },
     "execution_count": 132,
     "metadata": {},
     "output_type": "execute_result"
    },
    {
     "data": {
      "image/png": "[encoded data removed]",
      "text/plain": [
       "<Figure size 360x360 with 1 Axes>"
      ]
     },
     "metadata": {
      "needs_background": "light"
     },
     "output_type": "display_data"
    }
   ],
   "source": [
    "sns.displot(df[df['Authentic_Fake'] == 0]['Entropy'])\n",
    "\n",
    "#Authentic checks "
   ]
  },
  {
   "cell_type": "code",
   "execution_count": 133,
   "id": "016fe3dd",
   "metadata": {},
   "outputs": [
    {
     "data": {
      "text/plain": [
       "<AxesSubplot:xlabel='Entropy', ylabel='Kurtosis'>"
      ]
     },
     "execution_count": 133,
     "metadata": {},
     "output_type": "execute_result"
    },
    {
     "data": {
      "image/png": "[encoded data removed]",
      "text/plain": [
       "<Figure size 432x288 with 1 Axes>"
      ]
     },
     "metadata": {
      "needs_background": "light"
     },
     "output_type": "display_data"
    }
   ],
   "source": [
    "sns.scatterplot(data = df, x = 'Entropy', y = 'Kurtosis', hue = 'Authentic_Fake')"
   ]
  },
  {
   "cell_type": "code",
   "execution_count": 134,
   "id": "6c863e32",
   "metadata": {},
   "outputs": [
    {
     "data": {
      "text/plain": [
       "<AxesSubplot:xlabel='Entropy', ylabel='Skewness'>"
      ]
     },
     "execution_count": 134,
     "metadata": {},
     "output_type": "execute_result"
    },
    {
     "data": {
      "image/png": "[encoded data removed]",
      "text/plain": [
       "<Figure size 432x288 with 1 Axes>"
      ]
     },
     "metadata": {
      "needs_background": "light"
     },
     "output_type": "display_data"
    }
   ],
   "source": [
    "sns.scatterplot(data = df, x = 'Entropy', y = 'Skewness', hue = 'Authentic_Fake')"
   ]
  },
  {
   "cell_type": "code",
   "execution_count": 135,
   "id": "0c1826e6",
   "metadata": {},
   "outputs": [
    {
     "ename": "SyntaxError",
     "evalue": "EOL while scanning string literal (<ipython-input-135-a81c2ab211e2>, line 1)",
     "output_type": "error",
     "traceback": [
      "\u001b[0;36m  File \u001b[0;32m\"<ipython-input-135-a81c2ab211e2>\"\u001b[0;36m, line \u001b[0;32m1\u001b[0m\n\u001b[0;31m    sns.scatterplot(data = df, x = 'Kurtosis', y = 'Skewness\u001b[0m\n\u001b[0m                                                            ^\u001b[0m\n\u001b[0;31mSyntaxError\u001b[0m\u001b[0;31m:\u001b[0m EOL while scanning string literal\n"
     ]
    }
   ],
   "source": [
    "sns.scatterplot(data = df, x = 'Kurtosis', y = 'Skewness\n",
    "                ', hue = 'Authentic_Fake')"
   ]
  },
  {
   "cell_type": "code",
   "execution_count": null,
   "id": "8e98fde8",
   "metadata": {},
   "outputs": [],
   "source": [
    "sns.scatterplot(data = df, x = 'Entropy', y = 'Variance', hue = 'Authentic_Fake')"
   ]
  },
  {
   "cell_type": "code",
   "execution_count": null,
   "id": "7e68a323",
   "metadata": {},
   "outputs": [],
   "source": [
    "sns.scatterplot(data = df, x = 'Kurtosis', y = 'Variance', hue = 'Authentic_Fake')"
   ]
  },
  {
   "cell_type": "code",
   "execution_count": null,
   "id": "3c3468e9",
   "metadata": {},
   "outputs": [],
   "source": [
    "sns.scatterplot(data = df, x = 'Variance', y = 'Skewness', hue = 'Authentic_Fake')"
   ]
  },
  {
   "cell_type": "code",
   "execution_count": null,
   "id": "1e076a0a",
   "metadata": {},
   "outputs": [],
   "source": [
    "df"
   ]
  },
  {
   "cell_type": "code",
   "execution_count": 136,
   "id": "7d72d493",
   "metadata": {},
   "outputs": [],
   "source": [
    "y = df['Authentic_Fake']\n",
    "X = df.drop('Authentic_Fake', axis=1)\n",
    "X_train, X_test, y_train, y_test = train_test_split(X, y, test_size=0.25, random_state=87)"
   ]
  },
  {
   "cell_type": "code",
   "execution_count": 137,
   "id": "b3e85650",
   "metadata": {},
   "outputs": [
    {
     "data": {
      "text/html": [
       "<div>\n",
       "<style scoped>\n",
       "    .dataframe tbody tr th:only-of-type {\n",
       "        vertical-align: middle;\n",
       "    }\n",
       "\n",
       "    .dataframe tbody tr th {\n",
       "        vertical-align: top;\n",
       "    }\n",
       "\n",
       "    .dataframe thead th {\n",
       "        text-align: right;\n",
       "    }\n",
       "</style>\n",
       "<table border=\"1\" class=\"dataframe\">\n",
       "  <thead>\n",
       "    <tr style=\"text-align: right;\">\n",
       "      <th></th>\n",
       "      <th>Variance</th>\n",
       "      <th>Skewness</th>\n",
       "      <th>Kurtosis</th>\n",
       "      <th>Entropy</th>\n",
       "    </tr>\n",
       "  </thead>\n",
       "  <tbody>\n",
       "    <tr>\n",
       "      <th>1203</th>\n",
       "      <td>-2.77230</td>\n",
       "      <td>3.2777</td>\n",
       "      <td>-0.93510</td>\n",
       "      <td>-3.145700</td>\n",
       "    </tr>\n",
       "    <tr>\n",
       "      <th>268</th>\n",
       "      <td>4.93420</td>\n",
       "      <td>2.4107</td>\n",
       "      <td>-0.17594</td>\n",
       "      <td>1.624500</td>\n",
       "    </tr>\n",
       "    <tr>\n",
       "      <th>472</th>\n",
       "      <td>2.82090</td>\n",
       "      <td>7.3108</td>\n",
       "      <td>-0.81857</td>\n",
       "      <td>-1.878400</td>\n",
       "    </tr>\n",
       "    <tr>\n",
       "      <th>557</th>\n",
       "      <td>4.38460</td>\n",
       "      <td>-4.8794</td>\n",
       "      <td>3.36620</td>\n",
       "      <td>-0.029324</td>\n",
       "    </tr>\n",
       "    <tr>\n",
       "      <th>1259</th>\n",
       "      <td>-3.00000</td>\n",
       "      <td>-9.1566</td>\n",
       "      <td>9.57660</td>\n",
       "      <td>-0.730180</td>\n",
       "    </tr>\n",
       "    <tr>\n",
       "      <th>...</th>\n",
       "      <td>...</td>\n",
       "      <td>...</td>\n",
       "      <td>...</td>\n",
       "      <td>...</td>\n",
       "    </tr>\n",
       "    <tr>\n",
       "      <th>1030</th>\n",
       "      <td>-1.85540</td>\n",
       "      <td>-9.6035</td>\n",
       "      <td>7.77640</td>\n",
       "      <td>-0.977160</td>\n",
       "    </tr>\n",
       "    <tr>\n",
       "      <th>1275</th>\n",
       "      <td>-0.89809</td>\n",
       "      <td>-4.4862</td>\n",
       "      <td>2.20090</td>\n",
       "      <td>0.507310</td>\n",
       "    </tr>\n",
       "    <tr>\n",
       "      <th>143</th>\n",
       "      <td>3.84810</td>\n",
       "      <td>10.1539</td>\n",
       "      <td>-3.85610</td>\n",
       "      <td>-4.222800</td>\n",
       "    </tr>\n",
       "    <tr>\n",
       "      <th>699</th>\n",
       "      <td>3.92620</td>\n",
       "      <td>6.0299</td>\n",
       "      <td>-2.01560</td>\n",
       "      <td>-0.065531</td>\n",
       "    </tr>\n",
       "    <tr>\n",
       "      <th>333</th>\n",
       "      <td>3.92940</td>\n",
       "      <td>1.4112</td>\n",
       "      <td>1.80760</td>\n",
       "      <td>0.897820</td>\n",
       "    </tr>\n",
       "  </tbody>\n",
       "</table>\n",
       "<p>1028 rows × 4 columns</p>\n",
       "</div>"
      ],
      "text/plain": [
       "      Variance  Skewness  Kurtosis   Entropy\n",
       "1203  -2.77230    3.2777  -0.93510 -3.145700\n",
       "268    4.93420    2.4107  -0.17594  1.624500\n",
       "472    2.82090    7.3108  -0.81857 -1.878400\n",
       "557    4.38460   -4.8794   3.36620 -0.029324\n",
       "1259  -3.00000   -9.1566   9.57660 -0.730180\n",
       "...        ...       ...       ...       ...\n",
       "1030  -1.85540   -9.6035   7.77640 -0.977160\n",
       "1275  -0.89809   -4.4862   2.20090  0.507310\n",
       "143    3.84810   10.1539  -3.85610 -4.222800\n",
       "699    3.92620    6.0299  -2.01560 -0.065531\n",
       "333    3.92940    1.4112   1.80760  0.897820\n",
       "\n",
       "[1028 rows x 4 columns]"
      ]
     },
     "execution_count": 137,
     "metadata": {},
     "output_type": "execute_result"
    }
   ],
   "source": [
    "X_train #75%"
   ]
  },
  {
   "cell_type": "code",
   "execution_count": 138,
   "id": "50f102e6",
   "metadata": {},
   "outputs": [
    {
     "data": {
      "text/html": [
       "<div>\n",
       "<style scoped>\n",
       "    .dataframe tbody tr th:only-of-type {\n",
       "        vertical-align: middle;\n",
       "    }\n",
       "\n",
       "    .dataframe tbody tr th {\n",
       "        vertical-align: top;\n",
       "    }\n",
       "\n",
       "    .dataframe thead th {\n",
       "        text-align: right;\n",
       "    }\n",
       "</style>\n",
       "<table border=\"1\" class=\"dataframe\">\n",
       "  <thead>\n",
       "    <tr style=\"text-align: right;\">\n",
       "      <th></th>\n",
       "      <th>Variance</th>\n",
       "      <th>Skewness</th>\n",
       "      <th>Kurtosis</th>\n",
       "      <th>Entropy</th>\n",
       "    </tr>\n",
       "  </thead>\n",
       "  <tbody>\n",
       "    <tr>\n",
       "      <th>933</th>\n",
       "      <td>-1.61760</td>\n",
       "      <td>1.0926</td>\n",
       "      <td>-0.35502</td>\n",
       "      <td>-0.599580</td>\n",
       "    </tr>\n",
       "    <tr>\n",
       "      <th>1043</th>\n",
       "      <td>-1.49040</td>\n",
       "      <td>-2.2183</td>\n",
       "      <td>1.60540</td>\n",
       "      <td>0.893940</td>\n",
       "    </tr>\n",
       "    <tr>\n",
       "      <th>102</th>\n",
       "      <td>3.33970</td>\n",
       "      <td>-4.6145</td>\n",
       "      <td>3.98230</td>\n",
       "      <td>-0.237510</td>\n",
       "    </tr>\n",
       "    <tr>\n",
       "      <th>227</th>\n",
       "      <td>3.12190</td>\n",
       "      <td>-3.1370</td>\n",
       "      <td>1.92590</td>\n",
       "      <td>-0.374580</td>\n",
       "    </tr>\n",
       "    <tr>\n",
       "      <th>180</th>\n",
       "      <td>-0.11783</td>\n",
       "      <td>-1.5789</td>\n",
       "      <td>8.03000</td>\n",
       "      <td>-0.028031</td>\n",
       "    </tr>\n",
       "    <tr>\n",
       "      <th>...</th>\n",
       "      <td>...</td>\n",
       "      <td>...</td>\n",
       "      <td>...</td>\n",
       "      <td>...</td>\n",
       "    </tr>\n",
       "    <tr>\n",
       "      <th>976</th>\n",
       "      <td>-1.23900</td>\n",
       "      <td>-6.5410</td>\n",
       "      <td>4.81510</td>\n",
       "      <td>-0.033204</td>\n",
       "    </tr>\n",
       "    <tr>\n",
       "      <th>386</th>\n",
       "      <td>4.63610</td>\n",
       "      <td>-2.6611</td>\n",
       "      <td>2.83580</td>\n",
       "      <td>1.199100</td>\n",
       "    </tr>\n",
       "    <tr>\n",
       "      <th>269</th>\n",
       "      <td>3.84170</td>\n",
       "      <td>10.0215</td>\n",
       "      <td>-4.26990</td>\n",
       "      <td>-4.915900</td>\n",
       "    </tr>\n",
       "    <tr>\n",
       "      <th>1253</th>\n",
       "      <td>-3.88940</td>\n",
       "      <td>-7.8322</td>\n",
       "      <td>9.82080</td>\n",
       "      <td>0.474980</td>\n",
       "    </tr>\n",
       "    <tr>\n",
       "      <th>217</th>\n",
       "      <td>-0.16735</td>\n",
       "      <td>7.6274</td>\n",
       "      <td>1.20610</td>\n",
       "      <td>-3.624100</td>\n",
       "    </tr>\n",
       "  </tbody>\n",
       "</table>\n",
       "<p>343 rows × 4 columns</p>\n",
       "</div>"
      ],
      "text/plain": [
       "      Variance  Skewness  Kurtosis   Entropy\n",
       "933   -1.61760    1.0926  -0.35502 -0.599580\n",
       "1043  -1.49040   -2.2183   1.60540  0.893940\n",
       "102    3.33970   -4.6145   3.98230 -0.237510\n",
       "227    3.12190   -3.1370   1.92590 -0.374580\n",
       "180   -0.11783   -1.5789   8.03000 -0.028031\n",
       "...        ...       ...       ...       ...\n",
       "976   -1.23900   -6.5410   4.81510 -0.033204\n",
       "386    4.63610   -2.6611   2.83580  1.199100\n",
       "269    3.84170   10.0215  -4.26990 -4.915900\n",
       "1253  -3.88940   -7.8322   9.82080  0.474980\n",
       "217   -0.16735    7.6274   1.20610 -3.624100\n",
       "\n",
       "[343 rows x 4 columns]"
      ]
     },
     "execution_count": 138,
     "metadata": {},
     "output_type": "execute_result"
    }
   ],
   "source": [
    "X_test #25%"
   ]
  },
  {
   "cell_type": "code",
   "execution_count": 139,
   "id": "e0355f75",
   "metadata": {},
   "outputs": [
    {
     "data": {
      "text/plain": [
       "1203    1\n",
       "268     0\n",
       "472     0\n",
       "557     0\n",
       "1259    1\n",
       "       ..\n",
       "1030    1\n",
       "1275    1\n",
       "143     0\n",
       "699     0\n",
       "333     0\n",
       "Name: Authentic_Fake, Length: 1028, dtype: int64"
      ]
     },
     "execution_count": 139,
     "metadata": {},
     "output_type": "execute_result"
    }
   ],
   "source": [
    "y_train #75%"
   ]
  },
  {
   "cell_type": "code",
   "execution_count": 140,
   "id": "b3d67a08",
   "metadata": {},
   "outputs": [
    {
     "data": {
      "text/plain": [
       "933     1\n",
       "1043    1\n",
       "102     0\n",
       "227     0\n",
       "180     0\n",
       "       ..\n",
       "976     1\n",
       "386     0\n",
       "269     0\n",
       "1253    1\n",
       "217     0\n",
       "Name: Authentic_Fake, Length: 343, dtype: int64"
      ]
     },
     "execution_count": 140,
     "metadata": {},
     "output_type": "execute_result"
    }
   ],
   "source": [
    "y_test  #25%"
   ]
  },
  {
   "cell_type": "code",
   "execution_count": 141,
   "id": "601b58ee",
   "metadata": {},
   "outputs": [],
   "source": [
    "from sklearn.linear_model import LogisticRegression\n",
    "\n",
    "#baseline model \n",
    "#call this function for dec tree and random forest "
   ]
  },
  {
   "cell_type": "code",
   "execution_count": 142,
   "id": "8fb469e2",
   "metadata": {},
   "outputs": [],
   "source": [
    "LogReg = LogisticRegression()"
   ]
  },
  {
   "cell_type": "code",
   "execution_count": 143,
   "id": "ebb89225",
   "metadata": {},
   "outputs": [
    {
     "data": {
      "text/plain": [
       "LogisticRegression()"
      ]
     },
     "execution_count": 143,
     "metadata": {},
     "output_type": "execute_result"
    }
   ],
   "source": [
    "LogReg.fit(X_train, y_train)"
   ]
  },
  {
   "cell_type": "code",
   "execution_count": 144,
   "id": "87f02b53",
   "metadata": {},
   "outputs": [
    {
     "data": {
      "text/plain": [
       "0.9892996108949417"
      ]
     },
     "execution_count": 144,
     "metadata": {},
     "output_type": "execute_result"
    }
   ],
   "source": [
    "LogReg.score(X_train, y_train)  #accuracy score "
   ]
  },
  {
   "cell_type": "code",
   "execution_count": 165,
   "id": "d54f0bc9",
   "metadata": {},
   "outputs": [
    {
     "data": {
      "text/plain": [
       "array([[186,   1],\n",
       "       [  1, 155]])"
      ]
     },
     "execution_count": 165,
     "metadata": {},
     "output_type": "execute_result"
    }
   ],
   "source": [
    "#confusion matrix:\n",
    "\n",
    "# get predictions\n",
    "y_pred = LogReg.predict(X_test) \n",
    "\n",
    "# calculate confusion matrix\n",
    "cfmat = confusion_matrix(y_test, y_pred) \n",
    "\n",
    "cfmat"
   ]
  },
  {
   "cell_type": "code",
   "execution_count": 166,
   "id": "8cb7b813",
   "metadata": {},
   "outputs": [
    {
     "data": {
      "image/png": "[encoded data removed]",
      "text/plain": [
       "<Figure size 432x288 with 2 Axes>"
      ]
     },
     "metadata": {
      "needs_background": "light"
     },
     "output_type": "display_data"
    }
   ],
   "source": [
    "plot_confusion_matrix(LogReg, \n",
    "                      X_test, y_test)\n",
    "plt.show()"
   ]
  },
  {
   "cell_type": "code",
   "execution_count": 168,
   "id": "55098a5e",
   "metadata": {},
   "outputs": [
    {
     "name": "stdout",
     "output_type": "stream",
     "text": [
      "186 1 1 155\n",
      "[[186   1]\n",
      " [  1 155]]\n"
     ]
    }
   ],
   "source": [
    "tn, fp, fn, tp = cfmat.flatten()\n",
    "print(tn,fn,fp,tp)\n",
    "\n",
    "print(cfmat)"
   ]
  },
  {
   "cell_type": "code",
   "execution_count": 169,
   "id": "80f276a6",
   "metadata": {},
   "outputs": [
    {
     "name": "stdout",
     "output_type": "stream",
     "text": [
      "0.9941690962099126\n"
     ]
    }
   ],
   "source": [
    "acc = (tp + tn) / (tp + tn + fp + fn)\n",
    "print(acc)"
   ]
  },
  {
   "cell_type": "code",
   "execution_count": 170,
   "id": "386c48ec",
   "metadata": {},
   "outputs": [
    {
     "data": {
      "text/plain": [
       "0.9935897435897436"
      ]
     },
     "execution_count": 170,
     "metadata": {},
     "output_type": "execute_result"
    }
   ],
   "source": [
    "prec = tp/(tp+fp)\n",
    "prec"
   ]
  },
  {
   "cell_type": "code",
   "execution_count": 173,
   "id": "3072e884",
   "metadata": {},
   "outputs": [
    {
     "data": {
      "text/plain": [
       "0.9935897435897436"
      ]
     },
     "execution_count": 173,
     "metadata": {},
     "output_type": "execute_result"
    }
   ],
   "source": [
    "precision_score(y_test, y_pred)"
   ]
  },
  {
   "cell_type": "code",
   "execution_count": 175,
   "id": "627e9094",
   "metadata": {},
   "outputs": [
    {
     "name": "stdout",
     "output_type": "stream",
     "text": [
      "0.9935897435897436\n"
     ]
    }
   ],
   "source": [
    "rec = tp / (tp + fn)\n",
    "print(rec)"
   ]
  },
  {
   "cell_type": "code",
   "execution_count": 176,
   "id": "325bf03c",
   "metadata": {},
   "outputs": [
    {
     "data": {
      "text/plain": [
       "0.9935897435897436"
      ]
     },
     "execution_count": 176,
     "metadata": {},
     "output_type": "execute_result"
    }
   ],
   "source": [
    "recall_score(y_test, y_pred)"
   ]
  },
  {
   "cell_type": "code",
   "execution_count": 178,
   "id": "af733272",
   "metadata": {},
   "outputs": [
    {
     "name": "stdout",
     "output_type": "stream",
     "text": [
      "0.9935897435897436\n"
     ]
    }
   ],
   "source": [
    "f1_sc = 2*prec*rec / (prec + rec)\n",
    "print(f1_sc)"
   ]
  },
  {
   "cell_type": "code",
   "execution_count": 179,
   "id": "d0e486a4",
   "metadata": {},
   "outputs": [
    {
     "data": {
      "text/plain": [
       "0.9935897435897436"
      ]
     },
     "execution_count": 179,
     "metadata": {},
     "output_type": "execute_result"
    }
   ],
   "source": [
    "f1_score(y_pred, y_test)\n",
    "\n",
    "#classification report gets all these at once "
   ]
  },
  {
   "cell_type": "code",
   "execution_count": 148,
   "id": "a1ea5ce6",
   "metadata": {},
   "outputs": [
    {
     "data": {
      "text/plain": [
       "<AxesSubplot:xlabel='Variance', ylabel='Authentic_Fake'>"
      ]
     },
     "execution_count": 148,
     "metadata": {},
     "output_type": "execute_result"
    },
    {
     "data": {
      "image/png": "[encoded data removed]",
      "text/plain": [
       "<Figure size 432x288 with 1 Axes>"
      ]
     },
     "metadata": {
      "needs_background": "light"
     },
     "output_type": "display_data"
    }
   ],
   "source": [
    "#These are just visualizations...not having to do with baseline model at all \n",
    "\n",
    "sns.regplot(x=X_train['Variance'], y=y_train, logistic=True, ci=None)"
   ]
  },
  {
   "cell_type": "code",
   "execution_count": 149,
   "id": "dcc7984c",
   "metadata": {},
   "outputs": [
    {
     "data": {
      "text/plain": [
       "<AxesSubplot:xlabel='Skewness', ylabel='Authentic_Fake'>"
      ]
     },
     "execution_count": 149,
     "metadata": {},
     "output_type": "execute_result"
    },
    {
     "data": {
      "image/png": "[encoded data removed]",
      "text/plain": [
       "<Figure size 432x288 with 1 Axes>"
      ]
     },
     "metadata": {
      "needs_background": "light"
     },
     "output_type": "display_data"
    }
   ],
   "source": [
    "sns.regplot(x=X_train['Skewness'], y=y_train, logistic=True, ci=None)"
   ]
  },
  {
   "cell_type": "code",
   "execution_count": 150,
   "id": "e38f5789",
   "metadata": {},
   "outputs": [
    {
     "data": {
      "text/plain": [
       "<AxesSubplot:xlabel='Kurtosis', ylabel='Authentic_Fake'>"
      ]
     },
     "execution_count": 150,
     "metadata": {},
     "output_type": "execute_result"
    },
    {
     "data": {
      "image/png": "[encoded data removed]",
      "text/plain": [
       "<Figure size 432x288 with 1 Axes>"
      ]
     },
     "metadata": {
      "needs_background": "light"
     },
     "output_type": "display_data"
    }
   ],
   "source": [
    "sns.regplot(x=X_train['Kurtosis'], y=y_train, logistic=True, ci=None)\n",
    "\n",
    "#using coefficients to compare the target vs features: \n",
    "#spread is high, w is small, region is too wide"
   ]
  },
  {
   "cell_type": "code",
   "execution_count": 151,
   "id": "6a14303b",
   "metadata": {},
   "outputs": [
    {
     "data": {
      "text/plain": [
       "<AxesSubplot:xlabel='Entropy', ylabel='Authentic_Fake'>"
      ]
     },
     "execution_count": 151,
     "metadata": {},
     "output_type": "execute_result"
    },
    {
     "data": {
      "image/png": "[encoded data removed]",
      "text/plain": [
       "<Figure size 432x288 with 1 Axes>"
      ]
     },
     "metadata": {
      "needs_background": "light"
     },
     "output_type": "display_data"
    }
   ],
   "source": [
    "sns.regplot(x=X_train['Entropy'], y=y_train, logistic=True, ci=None)"
   ]
  },
  {
   "cell_type": "code",
   "execution_count": 185,
   "id": "1330b2d4",
   "metadata": {},
   "outputs": [
    {
     "data": {
      "text/plain": [
       "StandardScaler()"
      ]
     },
     "execution_count": 185,
     "metadata": {},
     "output_type": "execute_result"
    }
   ],
   "source": [
    "#standard scaling of variables  (tuning the log reg model)\n",
    "\n",
    "ss = StandardScaler()\n",
    "X_train_scaled = ss.fit_transform(X_train)\n",
    "\n",
    "ss"
   ]
  },
  {
   "cell_type": "code",
   "execution_count": 186,
   "id": "1cc90d54",
   "metadata": {},
   "outputs": [
    {
     "ename": "ValueError",
     "evalue": "X has 2 features per sample; expecting 4",
     "output_type": "error",
     "traceback": [
      "\u001b[0;31m---------------------------------------------------------------------------\u001b[0m",
      "\u001b[0;31mValueError\u001b[0m                                Traceback (most recent call last)",
      "\u001b[0;32m<ipython-input-186-2d8947146010>\u001b[0m in \u001b[0;36m<module>\u001b[0;34m\u001b[0m\n\u001b[1;32m     11\u001b[0m \u001b[0mf\u001b[0m\u001b[0;34m,\u001b[0m \u001b[0max\u001b[0m \u001b[0;34m=\u001b[0m \u001b[0mplt\u001b[0m\u001b[0;34m.\u001b[0m\u001b[0msubplots\u001b[0m\u001b[0;34m(\u001b[0m\u001b[0;34m)\u001b[0m\u001b[0;34m\u001b[0m\u001b[0;34m\u001b[0m\u001b[0m\n\u001b[1;32m     12\u001b[0m \u001b[0;34m\u001b[0m\u001b[0m\n\u001b[0;32m---> 13\u001b[0;31m \u001b[0mZ\u001b[0m \u001b[0;34m=\u001b[0m \u001b[0mLogReg\u001b[0m\u001b[0;34m.\u001b[0m\u001b[0mpredict\u001b[0m\u001b[0;34m(\u001b[0m\u001b[0mnp\u001b[0m\u001b[0;34m.\u001b[0m\u001b[0mc_\u001b[0m\u001b[0;34m[\u001b[0m\u001b[0mxx_n\u001b[0m\u001b[0;34m.\u001b[0m\u001b[0mravel\u001b[0m\u001b[0;34m(\u001b[0m\u001b[0;34m)\u001b[0m\u001b[0;34m,\u001b[0m \u001b[0myy_n\u001b[0m\u001b[0;34m.\u001b[0m\u001b[0mravel\u001b[0m\u001b[0;34m(\u001b[0m\u001b[0;34m)\u001b[0m\u001b[0;34m]\u001b[0m\u001b[0;34m)\u001b[0m\u001b[0;34m\u001b[0m\u001b[0;34m\u001b[0m\u001b[0m\n\u001b[0m\u001b[1;32m     14\u001b[0m \u001b[0mZ\u001b[0m \u001b[0;34m=\u001b[0m \u001b[0mZ\u001b[0m\u001b[0;34m.\u001b[0m\u001b[0mreshape\u001b[0m\u001b[0;34m(\u001b[0m\u001b[0mxx_n\u001b[0m\u001b[0;34m.\u001b[0m\u001b[0mshape\u001b[0m\u001b[0;34m)\u001b[0m\u001b[0;34m\u001b[0m\u001b[0;34m\u001b[0m\u001b[0m\n\u001b[1;32m     15\u001b[0m \u001b[0max\u001b[0m\u001b[0;34m.\u001b[0m\u001b[0mcontourf\u001b[0m\u001b[0;34m(\u001b[0m\u001b[0mxx_n\u001b[0m\u001b[0;34m,\u001b[0m \u001b[0myy_n\u001b[0m\u001b[0;34m,\u001b[0m \u001b[0mZ\u001b[0m\u001b[0;34m,\u001b[0m \u001b[0malpha\u001b[0m\u001b[0;34m=\u001b[0m\u001b[0;36m0.4\u001b[0m\u001b[0;34m)\u001b[0m\u001b[0;34m\u001b[0m\u001b[0;34m\u001b[0m\u001b[0m\n",
      "\u001b[0;32m/opt/anaconda3/lib/python3.8/site-packages/sklearn/linear_model/_base.py\u001b[0m in \u001b[0;36mpredict\u001b[0;34m(self, X)\u001b[0m\n\u001b[1;32m    307\u001b[0m             \u001b[0mPredicted\u001b[0m \u001b[0;32mclass\u001b[0m \u001b[0mlabel\u001b[0m \u001b[0mper\u001b[0m \u001b[0msample\u001b[0m\u001b[0;34m.\u001b[0m\u001b[0;34m\u001b[0m\u001b[0;34m\u001b[0m\u001b[0m\n\u001b[1;32m    308\u001b[0m         \"\"\"\n\u001b[0;32m--> 309\u001b[0;31m         \u001b[0mscores\u001b[0m \u001b[0;34m=\u001b[0m \u001b[0mself\u001b[0m\u001b[0;34m.\u001b[0m\u001b[0mdecision_function\u001b[0m\u001b[0;34m(\u001b[0m\u001b[0mX\u001b[0m\u001b[0;34m)\u001b[0m\u001b[0;34m\u001b[0m\u001b[0;34m\u001b[0m\u001b[0m\n\u001b[0m\u001b[1;32m    310\u001b[0m         \u001b[0;32mif\u001b[0m \u001b[0mlen\u001b[0m\u001b[0;34m(\u001b[0m\u001b[0mscores\u001b[0m\u001b[0;34m.\u001b[0m\u001b[0mshape\u001b[0m\u001b[0;34m)\u001b[0m \u001b[0;34m==\u001b[0m \u001b[0;36m1\u001b[0m\u001b[0;34m:\u001b[0m\u001b[0;34m\u001b[0m\u001b[0;34m\u001b[0m\u001b[0m\n\u001b[1;32m    311\u001b[0m             \u001b[0mindices\u001b[0m \u001b[0;34m=\u001b[0m \u001b[0;34m(\u001b[0m\u001b[0mscores\u001b[0m \u001b[0;34m>\u001b[0m \u001b[0;36m0\u001b[0m\u001b[0;34m)\u001b[0m\u001b[0;34m.\u001b[0m\u001b[0mastype\u001b[0m\u001b[0;34m(\u001b[0m\u001b[0mint\u001b[0m\u001b[0;34m)\u001b[0m\u001b[0;34m\u001b[0m\u001b[0;34m\u001b[0m\u001b[0m\n",
      "\u001b[0;32m/opt/anaconda3/lib/python3.8/site-packages/sklearn/linear_model/_base.py\u001b[0m in \u001b[0;36mdecision_function\u001b[0;34m(self, X)\u001b[0m\n\u001b[1;32m    286\u001b[0m         \u001b[0mn_features\u001b[0m \u001b[0;34m=\u001b[0m \u001b[0mself\u001b[0m\u001b[0;34m.\u001b[0m\u001b[0mcoef_\u001b[0m\u001b[0;34m.\u001b[0m\u001b[0mshape\u001b[0m\u001b[0;34m[\u001b[0m\u001b[0;36m1\u001b[0m\u001b[0;34m]\u001b[0m\u001b[0;34m\u001b[0m\u001b[0;34m\u001b[0m\u001b[0m\n\u001b[1;32m    287\u001b[0m         \u001b[0;32mif\u001b[0m \u001b[0mX\u001b[0m\u001b[0;34m.\u001b[0m\u001b[0mshape\u001b[0m\u001b[0;34m[\u001b[0m\u001b[0;36m1\u001b[0m\u001b[0;34m]\u001b[0m \u001b[0;34m!=\u001b[0m \u001b[0mn_features\u001b[0m\u001b[0;34m:\u001b[0m\u001b[0;34m\u001b[0m\u001b[0;34m\u001b[0m\u001b[0m\n\u001b[0;32m--> 288\u001b[0;31m             raise ValueError(\"X has %d features per sample; expecting %d\"\n\u001b[0m\u001b[1;32m    289\u001b[0m                              % (X.shape[1], n_features))\n\u001b[1;32m    290\u001b[0m \u001b[0;34m\u001b[0m\u001b[0m\n",
      "\u001b[0;31mValueError\u001b[0m: X has 2 features per sample; expecting 4"
     ]
    },
    {
     "data": {
      "image/png": "[encoded data removed]",
      "text/plain": [
       "<Figure size 432x288 with 1 Axes>"
      ]
     },
     "metadata": {
      "needs_background": "light"
     },
     "output_type": "display_data"
    }
   ],
   "source": [
    "#min max scaler \n",
    "\n",
    "X_2Dn = X_train_scaled # scaled features\n",
    "X_2D = X_train # features on original scale\n",
    "\n",
    "x_min, x_max = X_train_scaled[:, 0].min() - 1, X_train_scaled[:, 0].max() + 1\n",
    "y_min, y_max = X_train_scaled[:, 1].min() - 1, X_train_scaled[:, 1].max() + 1\n",
    "\n",
    "xx_n, yy_n = np.meshgrid(np.arange(x_min, x_max, 0.1), np.arange(y_min, y_max, 0.1))\n",
    "\n",
    "f, ax = plt.subplots()\n",
    "\n",
    "Z = LogReg.predict(np.c_[xx_n.ravel(), yy_n.ravel()])\n",
    "Z = Z.reshape(xx_n.shape)\n",
    "ax.contourf(xx_n, yy_n, Z, alpha=0.4)\n",
    "ax.scatter(X_2Dn[:, 0], X_2Dn[:, 1], c = y_train, s=30, edgecolor=\"k\")\n",
    "ax.set_xlabel('bill depth [mm]')\n",
    "ax.set_ylabel('body mass [g]')\n",
    "ax.set_title('Decision Boundary: Logistic Regression')\n",
    "\n",
    "plt.show()"
   ]
  },
  {
   "cell_type": "code",
   "execution_count": 187,
   "id": "498dbc4d",
   "metadata": {},
   "outputs": [
    {
     "ename": "NameError",
     "evalue": "name 'cross_validate' is not defined",
     "output_type": "error",
     "traceback": [
      "\u001b[0;31m---------------------------------------------------------------------------\u001b[0m",
      "\u001b[0;31mNameError\u001b[0m                                 Traceback (most recent call last)",
      "\u001b[0;32m<ipython-input-187-c713336a7dfc>\u001b[0m in \u001b[0;36m<module>\u001b[0;34m\u001b[0m\n\u001b[1;32m      7\u001b[0m \u001b[0;32mfor\u001b[0m \u001b[0mc\u001b[0m \u001b[0;32min\u001b[0m \u001b[0mC_list\u001b[0m\u001b[0;34m:\u001b[0m\u001b[0;34m\u001b[0m\u001b[0;34m\u001b[0m\u001b[0m\n\u001b[1;32m      8\u001b[0m     \u001b[0mlogreg\u001b[0m \u001b[0;34m=\u001b[0m \u001b[0mLogisticRegression\u001b[0m\u001b[0;34m(\u001b[0m\u001b[0mC\u001b[0m \u001b[0;34m=\u001b[0m \u001b[0mc\u001b[0m\u001b[0;34m)\u001b[0m \u001b[0;31m# using default lbfgs solver\u001b[0m\u001b[0;34m\u001b[0m\u001b[0;34m\u001b[0m\u001b[0m\n\u001b[0;32m----> 9\u001b[0;31m     cv_loop_results = cross_validate(\n\u001b[0m\u001b[1;32m     10\u001b[0m                 \u001b[0mX\u001b[0m\u001b[0;34m=\u001b[0m\u001b[0mX_train_scaled\u001b[0m\u001b[0;34m,\u001b[0m\u001b[0;34m\u001b[0m\u001b[0;34m\u001b[0m\u001b[0m\n\u001b[1;32m     11\u001b[0m                 \u001b[0my\u001b[0m\u001b[0;34m=\u001b[0m\u001b[0my_train\u001b[0m\u001b[0;34m,\u001b[0m\u001b[0;34m\u001b[0m\u001b[0;34m\u001b[0m\u001b[0m\n",
      "\u001b[0;31mNameError\u001b[0m: name 'cross_validate' is not defined"
     ]
    }
   ],
   "source": [
    "#hyperparameter tuning on C \n",
    "\n",
    "C_list = [1e-4,1e-3, 1e-2, 1e-1, 1, 10, 100, 1e3]\n",
    "cv_scores = []\n",
    "cv_scores_std = []\n",
    "\n",
    "for c in C_list:\n",
    "    logreg = LogisticRegression(C = c) # using default lbfgs solver\n",
    "    cv_loop_results = cross_validate(\n",
    "                X=X_train_scaled, \n",
    "                y=y_train,\n",
    "                estimator=logreg, \n",
    "                cv=8)\n",
    "    cv_scores.append(np.mean(np.sqrt(np.abs(cv_loop_results['test_score']))))\n",
    "    cv_scores_std.append(np.std(np.sqrt(np.abs(cv_loop_results['test_score']))))"
   ]
  },
  {
   "cell_type": "code",
   "execution_count": 188,
   "id": "4969e3bb",
   "metadata": {},
   "outputs": [
    {
     "ename": "NameError",
     "evalue": "name 'ct' is not defined",
     "output_type": "error",
     "traceback": [
      "\u001b[0;31m---------------------------------------------------------------------------\u001b[0m",
      "\u001b[0;31mNameError\u001b[0m                                 Traceback (most recent call last)",
      "\u001b[0;32m<ipython-input-188-d1aeb602086c>\u001b[0m in \u001b[0;36m<module>\u001b[0;34m\u001b[0m\n\u001b[0;32m----> 1\u001b[0;31m final_pipe = Pipeline([('preprocess', ct),\n\u001b[0m\u001b[1;32m      2\u001b[0m                       ('model',\n\u001b[1;32m      3\u001b[0m                        KNeighborsClassifier())])\n\u001b[1;32m      4\u001b[0m \u001b[0mfinal_pipe\u001b[0m\u001b[0;34m\u001b[0m\u001b[0;34m\u001b[0m\u001b[0m\n",
      "\u001b[0;31mNameError\u001b[0m: name 'ct' is not defined"
     ]
    }
   ],
   "source": [
    "final_pipe = Pipeline([('preprocess', ct),\n",
    "                      ('model',\n",
    "                       KNeighborsClassifier())])\n",
    "final_pipe"
   ]
  },
  {
   "cell_type": "code",
   "execution_count": 189,
   "id": "5b0129ca",
   "metadata": {},
   "outputs": [
    {
     "ename": "NameError",
     "evalue": "name 'final_pipe' is not defined",
     "output_type": "error",
     "traceback": [
      "\u001b[0;31m---------------------------------------------------------------------------\u001b[0m",
      "\u001b[0;31mNameError\u001b[0m                                 Traceback (most recent call last)",
      "\u001b[0;32m<ipython-input-189-300bd2d07c0f>\u001b[0m in \u001b[0;36m<module>\u001b[0;34m\u001b[0m\n\u001b[1;32m      3\u001b[0m              'model__p': [1, 2]}\n\u001b[1;32m      4\u001b[0m \u001b[0;34m\u001b[0m\u001b[0m\n\u001b[0;32m----> 5\u001b[0;31m gs_full_pipe = GridSearchCV(estimator=final_pipe, \n\u001b[0m\u001b[1;32m      6\u001b[0m                        param_grid=final_pipe_grid)\n\u001b[1;32m      7\u001b[0m \u001b[0;34m\u001b[0m\u001b[0m\n",
      "\u001b[0;31mNameError\u001b[0m: name 'final_pipe' is not defined"
     ]
    }
   ],
   "source": [
    "final_pipe_grid = {'preprocess__numpipe__numimputer__strategy': [\"mean\", \"median\"],\n",
    "             'model__n_neighbors': [3, 11, 15],\n",
    "             'model__p': [1, 2]}\n",
    "\n",
    "gs_full_pipe = GridSearchCV(estimator=final_pipe, \n",
    "                       param_grid=final_pipe_grid)\n",
    "\n",
    "#use this and replace model__n_neighbors with model__C, with other list he said from before: \n",
    "\n",
    "#C_list = [1e-4,1e-3, 1e-2, 1e-1, 1, 10, 100, 1e3]"
   ]
  },
  {
   "cell_type": "code",
   "execution_count": null,
   "id": "8831d540",
   "metadata": {},
   "outputs": [],
   "source": []
  }
 ],
 "metadata": {
  "kernelspec": {
   "display_name": "Python 3",
   "language": "python",
   "name": "python3"
  },
  "language_info": {
   "codemirror_mode": {
    "name": "ipython",
    "version": 3
   },
   "file_extension": ".py",
   "mimetype": "text/x-python",
   "name": "python",
   "nbconvert_exporter": "python",
   "pygments_lexer": "ipython3",
   "version": "3.8.8"
  }
 },
 "nbformat": 4,
 "nbformat_minor": 5
}
